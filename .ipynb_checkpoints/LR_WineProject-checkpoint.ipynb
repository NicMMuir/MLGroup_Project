{
 "cells": [
  {
   "cell_type": "code",
   "execution_count": 1,
   "metadata": {},
   "outputs": [],
   "source": [
    "import numpy as np\n",
    "import matplotlib.pyplot as plt\n",
    "import math\n",
    "from sklearn.metrics import confusion_matrix"
   ]
  },
  {
   "cell_type": "code",
   "execution_count": 2,
   "metadata": {},
   "outputs": [],
   "source": [
    "full_data_w = [] #white wine data\n",
    "full_data_r = [] #red whine data\n",
    "\n",
    "def Pulldata(file):               #Pulling white wine data\n",
    "    data_file = open(file, 'r')\n",
    "    lines = data_file.readlines()\n",
    "    temparr = []\n",
    "    for k in lines:\n",
    "        stuff = np.array(k.split(';'))\n",
    "        temparr.append(stuff)    \n",
    "    data_file.close()\n",
    "    return(temparr)\n",
    "\n",
    "full_data_w = Pulldata('winequality-white.csv')\n",
    "full_data_r = Pulldata('winequality-red.csv')\n",
    "\n",
    "#print(full_data_r)\n",
    "#print(full_data_w)"
   ]
  },
  {
   "cell_type": "code",
   "execution_count": 3,
   "metadata": {},
   "outputs": [
    {
     "name": "stdout",
     "output_type": "stream",
     "text": [
      "2939\n",
      "979\n",
      "980\n",
      "\n",
      "959\n",
      "320\n",
      "320\n"
     ]
    }
   ],
   "source": [
    "#splitting data into train,validate and test data (60,20,20)%\n",
    "WLabels = full_data_w[0]\n",
    "del full_data_w[0]\n",
    "RLabels = full_data_r[0]\n",
    "del full_data_r[0]\n",
    "\n",
    "WTrain = full_data_w[:round(len(full_data_w)*0.6)]\n",
    "WValid = full_data_w[round(len(full_data_w)*0.6):round(len(full_data_w)*0.8)]\n",
    "WTest  = full_data_w[round(len(full_data_w)*0.8):]\n",
    "\n",
    "RTrain = full_data_r[:round(len(full_data_r)*0.6)]\n",
    "RValid = full_data_r[round(len(full_data_r)*0.6):round(len(full_data_r)*0.8)]\n",
    "RTest  = full_data_r[round(len(full_data_r)*0.8):]\n",
    "\n",
    "\n",
    "print(len(WTrain))\n",
    "print(len(WValid))\n",
    "print(len(WTest))\n",
    "print()\n",
    "print(len(RTrain))\n",
    "print(len(RValid))\n",
    "print(len(RTest))\n",
    "\n"
   ]
  },
  {
   "cell_type": "code",
   "execution_count": 4,
   "metadata": {},
   "outputs": [],
   "source": [
    "#print(print(WTrain))"
   ]
  },
  {
   "cell_type": "code",
   "execution_count": 5,
   "metadata": {},
   "outputs": [
    {
     "name": "stdout",
     "output_type": "stream",
     "text": [
      "(2939, 14)\n",
      "(959, 14)\n"
     ]
    }
   ],
   "source": [
    "#Creating Design matrix : (DM) From Train Data\n",
    "\n",
    "\n",
    "DMW = np.ones((len(WTrain),len(WLabels)+1))\n",
    "DMR = np.ones((len(RTrain),len(RLabels)+1))\n",
    "\n",
    "\n",
    "print(DMW.shape)\n",
    "print(DMR.shape)\n",
    "\n",
    "def CreateDM(DMtemp,DM):  #Function to create Design Matrix\n",
    "    indexk = 0\n",
    "    \n",
    "    for k in DMtemp:\n",
    "        indexj = 0\n",
    "        for j in k:\n",
    "            DM[indexk][indexj+1] = DMtemp[indexk][indexj]\n",
    "            indexj=indexj+1\n",
    "        indexk=indexk+1\n",
    "    return(DM)        \n",
    "        \n",
    "DMW = CreateDM(WTrain , DMW) #Realocation of each designmatrix from ones to data\n",
    "\n",
    "DMR = CreateDM(RTrain , DMR) #Realocation of each designmatrix from ones to data\n",
    "\n",
    "DMW = np.delete(DMW, 12, 1)\n",
    "DMR = np.delete(DMR, 12, 1)\n",
    "\n",
    "#Creating Design Matrix for validation Data\n",
    "DMWValid = np.ones((len(WValid),len(WLabels)+1))\n",
    "DMRValid = np.ones((len(RValid),len(RLabels)+1))\n",
    "   \n",
    "DMWValid = CreateDM(WValid,DMWValid) #Realocation of each designmatrix from ones to data\n",
    "DMRValid = CreateDM(RValid,DMRValid) #Realocation of each designmatrix from ones to data\n",
    "\n",
    "DMWValid = np.delete(DMWValid, 12, 1)\n",
    "DMRValid = np.delete(DMRValid, 12, 1)\n",
    "\n",
    "\n",
    "#Create design matrix for Testing Data\n",
    "DMWTest = np.ones((len(WTest),len(WLabels)+1))\n",
    "DMRTest = np.ones((len(RTest),len(RLabels)+1))\n",
    "      \n",
    "DMWTest = CreateDM(WTest,DMWTest) #Realocation of each designmatrix from ones to data\n",
    "DMRTest = CreateDM(RTest,DMRTest) #Realocation of each designmatrix from ones to data\n",
    "\n",
    "DMWTest = np.delete(DMWTest, 12, 1)\n",
    "DMRTest = np.delete(DMRTest, 12, 1)\n",
    " "
   ]
  },
  {
   "cell_type": "code",
   "execution_count": 6,
   "metadata": {},
   "outputs": [
    {
     "name": "stdout",
     "output_type": "stream",
     "text": [
      "[[ 1.    7.4   0.7  ...  0.56  9.4   1.  ]\n",
      " [ 1.    7.8   0.88 ...  0.68  9.8   1.  ]\n",
      " [ 1.    7.8   0.76 ...  0.65  9.8   1.  ]\n",
      " ...\n",
      " [ 1.    9.    0.36 ...  0.62 11.3   2.  ]\n",
      " [ 1.    9.5   0.37 ...  0.58 11.1   2.  ]\n",
      " [ 1.    6.4   0.57 ...  0.71 11.3   3.  ]]\n"
     ]
    }
   ],
   "source": [
    "print(DMR)"
   ]
  },
  {
   "cell_type": "code",
   "execution_count": 7,
   "metadata": {},
   "outputs": [],
   "source": [
    "def hFunction(DM,theta_values):\n",
    "    return 1/(1+np.exp(-np.dot(DM,theta_values)))#H(x,Theta) Calculation\n",
    "\n",
    "def GradientDescent(theta_values,theta_valuesOld,DM,alpha):#Gradient Descent Function\n",
    "    while np.sqrt(np.sum(np.power(theta_values - theta_valuesOld, 2))) > 0.0005: # while euclidean norm > 0.0005 (so ϵ = 0.0005) \n",
    "        theta_valuesOld = theta_values # set old parameter values to parameter values before they are updated\n",
    "        for i in range(DM.shape[0]):\n",
    "            theta_values = theta_values - alpha*( (hFunction(DM[i,:12], theta_values) - DM[i][12]) * DM[i,:12] ) # update the parameters using the update rule\n",
    "\n",
    "             \n",
    "            \n",
    "    return theta_values #return our theta values for this model\n",
    "\n",
    "def convertMatrix(value,DM):  #Function to convert our design matrix for oneVsrest multiclass classification\n",
    "    convDM = DM.copy()\n",
    "    index = 0\n",
    "    for k in DM:\n",
    "        if k[12] == float(value):\n",
    "            convDM[index][12] = 1\n",
    "        else:\n",
    "            convDM[index][12] = 0\n",
    "        index = index+1\n",
    "    return convDM"
   ]
  },
  {
   "cell_type": "code",
   "execution_count": 8,
   "metadata": {},
   "outputs": [
    {
     "name": "stdout",
     "output_type": "stream",
     "text": [
      "[[ 1.    7.4   0.7  ...  0.56  9.4   1.  ]\n",
      " [ 1.    7.8   0.88 ...  0.68  9.8   1.  ]\n",
      " [ 1.    7.8   0.76 ...  0.65  9.8   1.  ]\n",
      " ...\n",
      " [ 1.    9.    0.36 ...  0.62 11.3   0.  ]\n",
      " [ 1.    9.5   0.37 ...  0.58 11.1   0.  ]\n",
      " [ 1.    6.4   0.57 ...  0.71 11.3   0.  ]]\n"
     ]
    }
   ],
   "source": [
    "convertedDMR=convertMatrix(1,DMR)#create a converted design matrix where target variable only has two values 1 and 0 (1 represents the value you use as a parameter and 0 represents every other value besides the parameter value)\n",
    "print(convertedDMR)\n"
   ]
  },
  {
   "cell_type": "code",
   "execution_count": 9,
   "metadata": {},
   "outputs": [
    {
     "name": "stdout",
     "output_type": "stream",
     "text": [
      "[ 0.80237621  0.08408387  2.62396452  0.21128212  0.0175173   0.36747542\n",
      " -0.04384589  0.01848277  0.70932725  1.51976858 -1.1690032  -0.84657696]\n"
     ]
    }
   ],
   "source": [
    "\n",
    "theta_values=np.random.uniform(size=12)#initialize our initial thetas\n",
    "theta_valuesOld=np.zeros(12)\n",
    "alpha=1e-4#learning rate\n",
    "theta_values=GradientDescent(theta_values,theta_valuesOld,convertedDMR,alpha)\n",
    "print(theta_values)#print our theta values for the model"
   ]
  },
  {
   "cell_type": "code",
   "execution_count": 10,
   "metadata": {},
   "outputs": [
    {
     "name": "stdout",
     "output_type": "stream",
     "text": [
      "[ 1.      7.4     0.7     0.      1.9     0.076  11.     34.      0.9978\n",
      "  3.51    0.56    9.4     1.    ]\n",
      "[0.08779204 0.2237194  0.2237194  0.33108653 0.53718038 0.17523093\n",
      " 0.23590364 0.0286233  0.06239636 0.50246599 0.50246599 0.3147919\n",
      " 0.24195282 0.06032862 0.60715924 0.24195282 0.33561876 0.33561876\n",
      " 0.08361252 0.09262496 0.87555932 0.12065558 0.33029506 0.12706867\n",
      " 0.11427154 0.75249864 0.62916421 0.67310355 0.2753893  0.67310355\n",
      " 0.56460446 0.62916421 0.04774372 0.76259759 0.37005766 0.34978273\n",
      " 0.69673721 0.25149311 0.11270528 0.69673721 0.53409017 0.71958803\n",
      " 0.24521486 0.09826054 0.1204278  0.21471571 0.21471571 0.21471571\n",
      " 0.21471571 0.55686398 0.69281084 0.69281084 0.75328122 0.37694422\n",
      " 0.70957961 0.62425864 0.06068102 0.43302915 0.43302915 0.43302915\n",
      " 0.29550865 0.29550865 0.29550865 0.30547091 0.29550865 0.18816072\n",
      " 0.31664974 0.21307302 0.59674335 0.59674335 0.25568171 0.46310317\n",
      " 0.22527043 0.55379953 0.55379953 0.48476372 0.35212514 0.35708199\n",
      " 0.23387557 0.47323033 0.38701618 0.29085919 0.71061356 0.38701618\n",
      " 0.78681749 0.19116959 0.4951787  0.64148758 0.46455364 0.74851201\n",
      " 0.38054182 0.66241227 0.09823253 0.66241227 0.72468324 0.58050358\n",
      " 0.72067076 0.64724855 0.15501905 0.37573321 0.29237387 0.29237387\n",
      " 0.7514035  0.6845001  0.6845001  0.74765832 0.74961975 0.54437682\n",
      " 0.54437682 0.5304975  0.4394001  0.07469542 0.37894686 0.43912103\n",
      " 0.43512847 0.62905789 0.59614374 0.5765259  0.72367103 0.4265085\n",
      " 0.24966839 0.77126353 0.77126353 0.07268583 0.16355855 0.35596469\n",
      " 0.05826423 0.08596039 0.10811465 0.0150502  0.10811465 0.36582844\n",
      " 0.27226079 0.08596039 0.52488527 0.34372845 0.51423051 0.34372845\n",
      " 0.04156287 0.45042745 0.74348999 0.45042745 0.43644697 0.06949743\n",
      " 0.22331327 0.28986369 0.28986369 0.05198383 0.16565723 0.21725572\n",
      " 0.03790747 0.26600686 0.53581507 0.08816865 0.25418489 0.46838608\n",
      " 0.46838608 0.69647787 0.51303094 0.40710204 0.30424414 0.08007214\n",
      " 0.80711676 0.39373765 0.17052757 0.29830391 0.8026855  0.39373765\n",
      " 0.43749433 0.27340892 0.08046702 0.08007214 0.11752326 0.06823887\n",
      " 0.69783081 0.23810342 0.43482187 0.26278954 0.69783081 0.21340839\n",
      " 0.04019335 0.18307093 0.59955118 0.35821867 0.31736263 0.34953146\n",
      " 0.34953146 0.25706696 0.50314707 0.25706696 0.72493973 0.48681362\n",
      " 0.10883872 0.10783157 0.28493748 0.4918427  0.05086815 0.4918427\n",
      " 0.04952285 0.6445847  0.18298688 0.48306326 0.18298688 0.38683081\n",
      " 0.17778801 0.48875353 0.57252267 0.42986351 0.29811515 0.23098162\n",
      " 0.23591243 0.03963697 0.23098162 0.18852634 0.8109014  0.21426442\n",
      " 0.15740609 0.8109014  0.24167751 0.49073967 0.24167751 0.55924085\n",
      " 0.72531333 0.5794944  0.1900035  0.1360335  0.58050444 0.423749\n",
      " 0.1360335  0.12397741 0.08433842 0.26915559 0.45058628 0.45553973\n",
      " 0.38521003 0.83814551 0.83622229 0.13405005 0.18312769 0.2739127\n",
      " 0.45079604 0.18312769 0.61595801 0.13405005 0.24630238 0.24901431\n",
      " 0.34268689 0.36213489 0.17335235 0.26477912 0.2638587  0.12572647\n",
      " 0.49597394 0.25131944 0.57414633 0.13714819 0.4571679  0.31569532\n",
      " 0.30743317 0.13642563 0.23959933 0.17913757 0.12248183 0.28222392\n",
      " 0.26009073 0.07973952 0.36697204 0.29986756 0.14033496 0.26864107\n",
      " 0.06595918 0.56955511 0.57068026 0.18529071 0.59191214 0.37994046\n",
      " 0.25796728 0.64952241 0.37994046 0.36473659 0.69213173 0.69213173\n",
      " 0.69213173 0.42307225 0.42307225 0.42307225 0.18115355 0.06649458\n",
      " 0.42307225 0.48220877 0.15550715 0.03153973 0.11931945 0.70572336\n",
      " 0.11794472 0.40684814 0.09181624 0.1144968  0.18991342 0.19663943\n",
      " 0.14404144 0.08332524 0.14404144 0.21052198 0.45267725 0.04266198\n",
      " 0.07725997 0.05490473 0.23140503 0.08312614 0.71950214 0.06567692\n",
      " 0.24349407 0.11391159 0.36684749 0.22707342 0.09466842 0.11391159\n",
      " 0.30062172 0.12659562]\n"
     ]
    }
   ],
   "source": [
    "print(DMR[0])\n",
    "#DMRTest = DMRTest[DMRTest[:,1].argsort()] \n",
    "value=hFunction(DMRTest[:,:12],theta_values)#our predictions for a data point in terms of probability\n",
    "print(value)\n",
    "\n"
   ]
  },
  {
   "cell_type": "code",
   "execution_count": 11,
   "metadata": {},
   "outputs": [],
   "source": [
    "#loop for each possible quility /10\n",
    "\n",
    "ThetaList = []\n",
    "alpha=1e-4#learning rate\n",
    "valuelist = []\n",
    "\n",
    "for k in range(4):\n",
    "    convertedDMR=convertMatrix(k,DMR)\n",
    "    theta_values=np.random.uniform(size=12)#initialize our initial thetas\n",
    "    theta_valuesOld=np.zeros(12)\n",
    "    theta_values=GradientDescent(theta_values,theta_valuesOld,convertedDMR,alpha)\n",
    "    ThetaList.append(theta_values)\n",
    "\n",
    "#loop for h functions\n",
    "for t in ThetaList:\n",
    "    val = hFunction(DMRTest[:,:12],t)\n",
    "    valuelist.append(val)\n"
   ]
  },
  {
   "cell_type": "code",
   "execution_count": 12,
   "metadata": {},
   "outputs": [
    {
     "name": "stdout",
     "output_type": "stream",
     "text": [
      "[[112  33  14]\n",
      " [ 43  55  38]\n",
      " [  1   7  17]]\n"
     ]
    }
   ],
   "source": [
    "#soft max function\n",
    "def softMax(ThetaList,TestItem):\n",
    "    probabilities=[] #initialises probabilities array that holds probability for each class\n",
    "    value=0\n",
    "    for i in ThetaList: #loops through ThetaList \n",
    "        value=value+np.exp(np.dot(i,TestItem)) #calculates denominator of softmax function\n",
    "    for j in ThetaList:\n",
    "        probability=(np.exp(np.dot(j,TestItem)))/value #calculates probability of each class and appends it to the probabilties array\n",
    "        probabilities.append(probability)\n",
    "    return probabilities\n",
    "\n",
    "DMRAns = DMRTest[:,12]\n",
    "DMRtempTest = np.delete(DMRTest, 12, 1)\n",
    "#print(DMRAns)\n",
    "Guess = []\n",
    "for k in range(len(DMRtempTest)):\n",
    "    Guess.append(np.argmax(softMax(ThetaList,DMRtempTest[k])))\n",
    "    \n",
    "#print(Guess)\n",
    "\n",
    "\n",
    "\n",
    "print(confusion_matrix(DMRAns,Guess))\n"
   ]
  },
  {
   "cell_type": "code",
   "execution_count": 13,
   "metadata": {},
   "outputs": [
    {
     "name": "stdout",
     "output_type": "stream",
     "text": [
      "57.49999999999999\n"
     ]
    }
   ],
   "source": [
    "#print(ThetaList)\n",
    "#Validate\n",
    "index = 0\n",
    "correct = 0\n",
    "incorrect = 0\n",
    "for k in DMRAns:\n",
    "    if k == Guess[index]:\n",
    "        correct=correct+1\n",
    "    else:\n",
    "        incorrect = incorrect+1\n",
    "    index = index+1\n",
    "print((correct/len(Guess)*100))"
   ]
  },
  {
   "cell_type": "code",
   "execution_count": 15,
   "metadata": {},
   "outputs": [
    {
     "name": "stdout",
     "output_type": "stream",
     "text": [
      "[[62 23 13]\n",
      " [34 42 78]\n",
      " [ 2 12 54]]\n",
      "49.375\n"
     ]
    }
   ],
   "source": [
    "### After running this we have:\n",
    "#ThetaList from the learning phase\n",
    "\n",
    "DMRValidAns = DMRValid[:,12]\n",
    "DMRtempValid = np.delete(DMRValid, 12, 1)\n",
    "#print(DMRAns)\n",
    "GuessV = []\n",
    "for k in range(len(DMRtempValid)):\n",
    "    GuessV.append(np.argmax(softMax(ThetaList,DMRtempValid[k])))\n",
    "    \n",
    "#print(Guess)\n",
    "\n",
    "\n",
    "\n",
    "print(confusion_matrix(DMRValidAns,GuessV))\n",
    "\n",
    "index = 0\n",
    "correct = 0\n",
    "incorrect = 0\n",
    "for k in DMRValidAns:\n",
    "    if k == GuessV[index]:\n",
    "        correct=correct+1\n",
    "    else:\n",
    "        incorrect = incorrect+1\n",
    "    index = index+1\n",
    "print((correct/len(GuessV)*100))"
   ]
  },
  {
   "cell_type": "code",
   "execution_count": null,
   "metadata": {},
   "outputs": [],
   "source": []
  },
  {
   "cell_type": "code",
   "execution_count": null,
   "metadata": {},
   "outputs": [],
   "source": []
  },
  {
   "cell_type": "code",
   "execution_count": null,
   "metadata": {},
   "outputs": [],
   "source": []
  },
  {
   "cell_type": "markdown",
   "metadata": {},
   "source": [
    "# "
   ]
  }
 ],
 "metadata": {
  "kernelspec": {
   "display_name": "Python 3",
   "language": "python",
   "name": "python3"
  },
  "language_info": {
   "codemirror_mode": {
    "name": "ipython",
    "version": 3
   },
   "file_extension": ".py",
   "mimetype": "text/x-python",
   "name": "python",
   "nbconvert_exporter": "python",
   "pygments_lexer": "ipython3",
   "version": "3.7.4"
  }
 },
 "nbformat": 4,
 "nbformat_minor": 2
}
