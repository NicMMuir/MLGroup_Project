{
 "cells": [
  {
   "cell_type": "code",
   "execution_count": 1,
   "metadata": {},
   "outputs": [],
   "source": [
    "import numpy as np\n",
    "import matplotlib.pyplot as plt\n",
    "import math\n",
    "from sklearn.metrics import confusion_matrix"
   ]
  },
  {
   "cell_type": "code",
   "execution_count": 2,
   "metadata": {},
   "outputs": [],
   "source": [
    "full_data_w = [] #white wine data\n",
    "full_data_r = [] #red whine data\n",
    "\n",
    "def Pulldata(file):               #Pulling white wine data\n",
    "    data_file = open(file, 'r')\n",
    "    lines = data_file.readlines()\n",
    "    temparr = []\n",
    "    for k in lines:\n",
    "        stuff = np.array(k.split(';'))\n",
    "        temparr.append(stuff)    \n",
    "    data_file.close()\n",
    "    return(temparr)\n",
    "\n",
    "full_data_w = Pulldata('winequality-white.csv')\n",
    "full_data_r = Pulldata('winequality-red.csv')\n",
    "\n",
    "#print(full_data_r)\n",
    "#print(full_data_w)"
   ]
  },
  {
   "cell_type": "code",
   "execution_count": 3,
   "metadata": {},
   "outputs": [
    {
     "name": "stdout",
     "output_type": "stream",
     "text": [
      "3918\n",
      "980\n",
      "\n",
      "1279\n",
      "320\n"
     ]
    }
   ],
   "source": [
    "#splitting data into train,validate and test data (60,20,20)%\n",
    "WLabels = full_data_w[0]\n",
    "del full_data_w[0]\n",
    "RLabels = full_data_r[0]\n",
    "del full_data_r[0]\n",
    "\n",
    "WTrain = full_data_w[:round(len(full_data_w)*0.8)]\n",
    "#WValid = full_data_w[round(len(full_data_w)*0.6):round(len(full_data_w)*0.8)]\n",
    "WTest  = full_data_w[round(len(full_data_w)*0.8):]\n",
    "\n",
    "RTrain = full_data_r[:round(len(full_data_r)*0.8)]\n",
    "#RValid = full_data_r[round(len(full_data_r)*0.6):round(len(full_data_r)*0.8)]\n",
    "RTest  = full_data_r[round(len(full_data_r)*0.8):]\n",
    "\n",
    "\n",
    "print(len(WTrain))\n",
    "#print(len(WValid))\n",
    "print(len(WTest))\n",
    "print()\n",
    "print(len(RTrain))\n",
    "#print(len(RValid))\n",
    "print(len(RTest))\n",
    "\n"
   ]
  },
  {
   "cell_type": "code",
   "execution_count": 4,
   "metadata": {},
   "outputs": [],
   "source": [
    "#print(print(WTrain))"
   ]
  },
  {
   "cell_type": "code",
   "execution_count": 5,
   "metadata": {},
   "outputs": [
    {
     "name": "stdout",
     "output_type": "stream",
     "text": [
      "(3918, 14)\n",
      "(1279, 14)\n"
     ]
    }
   ],
   "source": [
    "#Creating Design matrix : (DM) From Train Data\n",
    "\n",
    "\n",
    "DMW = np.ones((len(WTrain),len(WLabels)+1))\n",
    "DMR = np.ones((len(RTrain),len(RLabels)+1))\n",
    "\n",
    "\n",
    "print(DMW.shape)\n",
    "print(DMR.shape)\n",
    "\n",
    "def CreateDM(DMtemp,DM):  #Function to create Design Matrix\n",
    "    indexk = 0\n",
    "    \n",
    "    for k in DMtemp:\n",
    "        indexj = 0\n",
    "        for j in k:\n",
    "            DM[indexk][indexj+1] = DMtemp[indexk][indexj]\n",
    "            indexj=indexj+1\n",
    "        indexk=indexk+1\n",
    "    return(DM)        \n",
    "        \n",
    "DMW = CreateDM(WTrain , DMW) #Realocation of each designmatrix from ones to data\n",
    "\n",
    "DMR = CreateDM(RTrain , DMR) #Realocation of each designmatrix from ones to data\n",
    "\n",
    "DMW = np.delete(DMW, 12, 1)\n",
    "DMR = np.delete(DMR, 12, 1)\n",
    "\n",
    "#Creating Design Matrix for validation Data\n",
    "#DMWValid = np.ones((len(WValid),len(WLabels)+1))\n",
    "#DMRValid = np.ones((len(RValid),len(RLabels)+1))\n",
    "   \n",
    "#DMWValid = CreateDM(WValid,DMWValid) #Realocation of each designmatrix from ones to data\n",
    "#DMRValid = CreateDM(RValid,DMRValid) #Realocation of each designmatrix from ones to data\n",
    "\n",
    "#DMWValid = np.delete(DMWValid, 12, 1)\n",
    "#DMRValid = np.delete(DMRValid, 12, 1)\n",
    "\n",
    "\n",
    "#Create design matrix for Testing Data\n",
    "DMWTest = np.ones((len(WTest),len(WLabels)+1))\n",
    "DMRTest = np.ones((len(RTest),len(RLabels)+1))\n",
    "      \n",
    "DMWTest = CreateDM(WTest,DMWTest) #Realocation of each designmatrix from ones to data\n",
    "DMRTest = CreateDM(RTest,DMRTest) #Realocation of each designmatrix from ones to data\n",
    "\n",
    "DMWTest = np.delete(DMWTest, 12, 1)\n",
    "DMRTest = np.delete(DMRTest, 12, 1)\n",
    " "
   ]
  },
  {
   "cell_type": "code",
   "execution_count": 6,
   "metadata": {},
   "outputs": [
    {
     "name": "stdout",
     "output_type": "stream",
     "text": [
      "[[ 1.     7.4    0.7   ...  0.56   9.4    1.   ]\n",
      " [ 1.     7.8    0.88  ...  0.68   9.8    1.   ]\n",
      " [ 1.     7.8    0.76  ...  0.65   9.8    1.   ]\n",
      " ...\n",
      " [ 1.     8.5    0.4   ...  0.56  12.     1.   ]\n",
      " [ 1.     7.     0.69  ...  0.6    9.7    2.   ]\n",
      " [ 1.     8.     0.715 ...  0.54   9.5    2.   ]]\n"
     ]
    }
   ],
   "source": [
    "print(DMR)"
   ]
  },
  {
   "cell_type": "code",
   "execution_count": 7,
   "metadata": {},
   "outputs": [],
   "source": [
    "def hFunction(DM,theta_values):\n",
    "    return 1/(1+np.exp(-np.dot(DM,theta_values)))#H(x,Theta) Calculation\n",
    "\n",
    "def GradientDescent(theta_values,theta_valuesOld,DM,alpha):#Gradient Descent Function\n",
    "    while np.sqrt(np.sum(np.power(theta_values - theta_valuesOld, 2))) > 0.0005: # while euclidean norm > 0.0005 (so ϵ = 0.0005) \n",
    "        theta_valuesOld = theta_values # set old parameter values to parameter values before they are updated\n",
    "        for i in range(DM.shape[0]):\n",
    "            theta_values = theta_values - alpha*( (hFunction(DM[i,:12], theta_values) - DM[i][12]) * DM[i,:12] ) # update the parameters using the update rule\n",
    "\n",
    "             \n",
    "            \n",
    "    return theta_values #return our theta values for this model\n",
    "\n",
    "def convertMatrix(value,DM):  #Function to convert our design matrix for oneVsrest multiclass classification\n",
    "    convDM = DM.copy()\n",
    "    index = 0\n",
    "    for k in DM:\n",
    "        if k[12] == float(value):\n",
    "            convDM[index][12] = 1\n",
    "        else:\n",
    "            convDM[index][12] = 0\n",
    "        index = index+1\n",
    "    return convDM"
   ]
  },
  {
   "cell_type": "code",
   "execution_count": 8,
   "metadata": {},
   "outputs": [
    {
     "name": "stdout",
     "output_type": "stream",
     "text": [
      "[[ 1.     7.4    0.7   ...  0.56   9.4    1.   ]\n",
      " [ 1.     7.8    0.88  ...  0.68   9.8    1.   ]\n",
      " [ 1.     7.8    0.76  ...  0.65   9.8    1.   ]\n",
      " ...\n",
      " [ 1.     8.5    0.4   ...  0.56  12.     1.   ]\n",
      " [ 1.     7.     0.69  ...  0.6    9.7    0.   ]\n",
      " [ 1.     8.     0.715 ...  0.54   9.5    0.   ]]\n"
     ]
    }
   ],
   "source": [
    "convertedDMR=convertMatrix(1,DMR)#create a converted design matrix where target variable only has two values 1 and 0 (1 represents the value you use as a parameter and 0 represents every other value besides the parameter value)\n",
    "print(convertedDMR)\n"
   ]
  },
  {
   "cell_type": "code",
   "execution_count": 9,
   "metadata": {},
   "outputs": [],
   "source": [
    "\n",
    "# theta_values=np.random.uniform(size=12)#initialize our initial thetas\n",
    "# theta_valuesOld=np.zeros(12)\n",
    "# alpha=1e-4#learning rate\n",
    "# theta_values=GradientDescent(theta_values,theta_valuesOld,convertedDMR,alpha)\n",
    "# print(theta_values)#print our theta values for the model"
   ]
  },
  {
   "cell_type": "code",
   "execution_count": 10,
   "metadata": {},
   "outputs": [],
   "source": [
    "# print(DMR[0])\n",
    "# #DMRTest = DMRTest[DMRTest[:,1].argsort()] \n",
    "# value=hFunction(DMRTest[:,:12],theta_values)#our predictions for a data point in terms of probability\n",
    "# print(value)\n",
    "\n"
   ]
  },
  {
   "cell_type": "code",
   "execution_count": null,
   "metadata": {
    "scrolled": true
   },
   "outputs": [],
   "source": [
    "#loop for each possible quility /10\n",
    "ThetaList = []\n",
    "alpha=1e-4#learning rate\n",
    "valuelist = []\n",
    "\n",
    "for k in range(4):\n",
    "    convertedDMR=convertMatrix(k,DMR)\n",
    "    theta_values=np.random.uniform(size=12)#initialize our initial thetas\n",
    "    theta_valuesOld=np.zeros(12)\n",
    "    theta_values=GradientDescent(theta_values,theta_valuesOld,convertedDMR,alpha)\n",
    "    ThetaList.append(theta_values)\n",
    "\n",
    "#loop for h functions\n",
    "for t in ThetaList:\n",
    "    val = hFunction(DMRTest[:,:12],t)\n",
    "    valuelist.append(val)\n"
   ]
  },
  {
   "cell_type": "code",
   "execution_count": null,
   "metadata": {},
   "outputs": [],
   "source": [
    "print(ThetaList)"
   ]
  },
  {
   "cell_type": "code",
   "execution_count": null,
   "metadata": {},
   "outputs": [],
   "source": [
    "#soft max function\n",
    "def softMax(ThetaList,TestItem):\n",
    "    probabilities=[] #initialises probabilities array that holds probability for each class\n",
    "    value=0\n",
    "    for i in ThetaList: #loops through ThetaList \n",
    "        value=value+np.exp(np.dot(i,TestItem)) #calculates denominator of softmax function\n",
    "    for j in ThetaList:\n",
    "        probability=(np.exp(np.dot(j,TestItem)))/value #calculates probability of each class and appends it to the probabilties array\n",
    "        probabilities.append(probability)\n",
    "    return probabilities\n",
    "\n",
    "accuracylist = []\n",
    "\n",
    "DMRAns = DMRTest[:,12]\n",
    "DMRtempTest = np.delete(DMRTest, 12, 1)\n",
    "#print(DMRAns)\n",
    "Guess = []\n",
    "for j in range(len(DMRtempTest)):\n",
    "    Guess.append(np.argmax(softMax(ThetaList,DMRtempTest[j])))\n",
    "\n",
    "#print(Guess)\n",
    "#print(confusion_matrix(DMRAns,Guess))\n",
    "#print(ThetaList)\n",
    "#Validate\n",
    "index = 0\n",
    "correct = 0\n",
    "incorrect = 0\n",
    "for k in DMRAns:\n",
    "    if k == Guess[index]:\n",
    "        correct=correct+1\n",
    "    else:\n",
    "        incorrect = incorrect+1\n",
    "    index = index+1\n",
    "accuracylist.append((correct/len(Guess)*100))\n",
    "print(accuracylist)\n"
   ]
  },
  {
   "cell_type": "code",
   "execution_count": null,
   "metadata": {},
   "outputs": [],
   "source": []
  },
  {
   "cell_type": "code",
   "execution_count": null,
   "metadata": {},
   "outputs": [],
   "source": [
    "### After running this we have:\n",
    "#ThetaList from the learning phase\n",
    "\n",
    "# DMRValidAns = DMRValid[:,12]\n",
    "# DMRtempValid = np.delete(DMRValid, 12, 1)\n",
    "# #print(DMRAns)\n",
    "# GuessV = []\n",
    "# for k in range(len(DMRtempValid)):\n",
    "#     GuessV.append(np.argmax(softMax(ThetaList,DMRtempValid[k])))\n",
    "    \n",
    "# #print(Guess)\n",
    "\n",
    "\n",
    "\n",
    "# print(confusion_matrix(DMRValidAns,GuessV))\n",
    "\n",
    "# index = 0\n",
    "# correct = 0\n",
    "# incorrect = 0\n",
    "# for k in DMRValidAns:\n",
    "#     if k == GuessV[index]:\n",
    "#         correct=correct+1\n",
    "#     else:\n",
    "#         incorrect = incorrect+1\n",
    "#     index = index+1\n",
    "# print((correct/len(GuessV)*100))"
   ]
  },
  {
   "cell_type": "code",
   "execution_count": null,
   "metadata": {},
   "outputs": [],
   "source": []
  },
  {
   "cell_type": "code",
   "execution_count": null,
   "metadata": {},
   "outputs": [],
   "source": []
  },
  {
   "cell_type": "code",
   "execution_count": null,
   "metadata": {},
   "outputs": [],
   "source": []
  },
  {
   "cell_type": "markdown",
   "metadata": {},
   "source": [
    "# "
   ]
  }
 ],
 "metadata": {
  "kernelspec": {
   "display_name": "Python 3",
   "language": "python",
   "name": "python3"
  },
  "language_info": {
   "codemirror_mode": {
    "name": "ipython",
    "version": 3
   },
   "file_extension": ".py",
   "mimetype": "text/x-python",
   "name": "python",
   "nbconvert_exporter": "python",
   "pygments_lexer": "ipython3",
   "version": "3.7.4"
  }
 },
 "nbformat": 4,
 "nbformat_minor": 2
}
