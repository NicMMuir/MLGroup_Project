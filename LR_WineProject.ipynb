{
 "cells": [
  {
   "cell_type": "code",
   "execution_count": 1,
   "metadata": {},
   "outputs": [],
   "source": [
    "import numpy as np\n",
    "import matplotlib.pyplot as plt\n",
    "import math"
   ]
  },
  {
   "cell_type": "code",
   "execution_count": 53,
   "metadata": {},
   "outputs": [],
   "source": [
    "full_data_w = [] #white wine data\n",
    "full_data_r = [] #red whine data\n",
    "\n",
    "def Pulldataw(file):               #Pulling white wine data\n",
    "    data_file = open(file, 'r')\n",
    "    lines = data_file.readlines()\n",
    "    for k in lines:\n",
    "        stuff = np.array(k.split(';')) \n",
    "        full_data_w.append([stuff])    \n",
    "    data_file.close()\n",
    "Pulldataw('winequality-white.csv')\n",
    "\n",
    "def Pulldatar(file):                #Pulling red wine data\n",
    "    data_file = open(file, 'r')\n",
    "    lines = data_file.readlines()\n",
    "    for k in lines:\n",
    "        stuff = np.array(k.split(';')) \n",
    "        full_data_r.append([stuff])    \n",
    "    data_file.close()\n",
    "Pulldatar('winequality-red.csv')\n",
    "\n",
    "#print(full_data_r)\n",
    "#print(full_data_w)"
   ]
  },
  {
   "cell_type": "code",
   "execution_count": 3,
   "metadata": {},
   "outputs": [
    {
     "name": "stdout",
     "output_type": "stream",
     "text": [
      "2939\n",
      "979\n",
      "980\n",
      "\n",
      "959\n",
      "320\n",
      "320\n"
     ]
    }
   ],
   "source": [
    "#splitting data into train,validate and test data (60,20,20)%\n",
    "WLabels = full_data_w[0]\n",
    "del full_data_w[0]\n",
    "RLabels = full_data_r[0]\n",
    "del full_data_r[0]\n",
    "\n",
    "WTrain = full_data_w[:round(len(full_data_w)*0.6)]\n",
    "WValid = full_data_w[round(len(full_data_w)*0.6):round(len(full_data_w)*0.8)]\n",
    "WTest  = full_data_w[round(len(full_data_w)*0.8):]\n",
    "\n",
    "RTrain = full_data_r[:round(len(full_data_r)*0.6)]\n",
    "RValid = full_data_r[round(len(full_data_r)*0.6):round(len(full_data_r)*0.8)]\n",
    "RTest  = full_data_r[round(len(full_data_r)*0.8):]\n",
    "\n",
    "\n",
    "print(len(WTrain))\n",
    "print(len(WValid))\n",
    "print(len(WTest))\n",
    "print()\n",
    "print(len(RTrain))\n",
    "print(len(RValid))\n",
    "print(len(RTest))"
   ]
  },
  {
   "cell_type": "code",
   "execution_count": 66,
   "metadata": {},
   "outputs": [
    {
     "name": "stdout",
     "output_type": "stream",
     "text": [
      "(2939, 13)\n",
      "(959, 13)\n",
      "(979, 13)\n",
      "(320, 13)\n",
      "(980, 13)\n",
      "(320, 13)\n"
     ]
    }
   ],
   "source": [
    "#Creating Design matrix : (DM) From Train Data\n",
    "\n",
    "\n",
    "DMW = np.ones((len(WTrain),len(WTrain[0][0])+1))\n",
    "DMR = np.ones((len(RTrain),len(RTrain[0][0])+1))\n",
    "\n",
    "\n",
    "print(DMW.shape)\n",
    "print(DMR.shape)\n",
    "\n",
    "def CreateDM(DMtemp):  #Function to create Design Matrix\n",
    "    for j in range(DMtemp.shape[0]):\n",
    "        for k in range(DMtemp.shape[1]-1):\n",
    "            DMtemp[j][k+1] = WTrain[j][0][k].rstrip()\n",
    "    return(DMtemp)   \n",
    "        \n",
    "DMW = CreateDM(DMW) #Realocation of each designmatrix from ones to data\n",
    "DMR = CreateDM(DMR) #Realocation of each designmatrix from ones to data\n",
    "\n",
    "\n",
    "\n",
    "\n",
    "\n",
    "#Creating Design Matrix for validation Data\n",
    "DMWValid = np.ones((len(WValid),len(WValid[0][0])+1))\n",
    "DMRValid = np.ones((len(RValid),len(RValid[0][0])+1))\n",
    "\n",
    "\n",
    "print(DMWValid.shape)\n",
    "print(DMRValid.shape)\n",
    "\n",
    "def CreateDM(DMtemp):  #Function to create Design Matrix\n",
    "    for j in range(DMtemp.shape[0]):\n",
    "        for k in range(DMtemp.shape[1]-1):\n",
    "            DMtemp[j][k+1] = WValid[j][0][k].rstrip()\n",
    "    return(DMtemp)   \n",
    "        \n",
    "DMWValid = CreateDM(DMWValid) #Realocation of each designmatrix from ones to data\n",
    "DMRValid = CreateDM(DMRValid) #Realocation of each designmatrix from ones to data\n",
    "\n",
    "\n",
    "  \n",
    "\n",
    "\n",
    "#Create design matrix for Testing Data\n",
    "DMWTest = np.ones((len(WTest),len(WTest[0][0])+1))\n",
    "DMRTest = np.ones((len(RTest),len(RTest[0][0])+1))\n",
    "\n",
    "\n",
    "print(DMWTest.shape)\n",
    "print(DMRTest.shape)\n",
    "\n",
    "def CreateDM(DMtemp):  #Function to create Design Matrix\n",
    "    for j in range(DMtemp.shape[0]):\n",
    "        for k in range(DMtemp.shape[1]-1):\n",
    "            DMtemp[j][k+1] = WTest[j][0][k].rstrip()\n",
    "    return(DMtemp)   \n",
    "        \n",
    "DMWTest = CreateDM(DMWTest) #Realocation of each designmatrix from ones to data\n",
    "DMRTest = CreateDM(DMRTest) #Realocation of each designmatrix from ones to data\n",
    "\n",
    " "
   ]
  },
  {
   "cell_type": "code",
   "execution_count": 67,
   "metadata": {},
   "outputs": [],
   "source": [
    "def hFunction(DM,theta_values):\n",
    "    return 1/(1+np.exp(-np.dot(DM,theta_values)))#H(x,Theta) Calculation\n",
    "\n",
    "def GradientDescent(theta_values,theta_valuesOld,DM,alpha):#Gradient Descent Function\n",
    "    while np.sqrt(np.sum(np.power(theta_values - theta_valuesOld, 2))) > 0.0005: # while euclidean norm > 0.0005 (so ϵ = 0.0005) \n",
    "        theta_valuesOld = theta_values # set old parameter values to parameter values before they are updated\n",
    "        for i in range(DM.shape[0]):\n",
    "            theta_values = theta_values - alpha*( (hFunction(DM[i,:12], theta_values) - DM[i][12]) * DM[i,:12] ) # update the parameters using the update rule\n",
    "\n",
    "             \n",
    "            \n",
    "    return theta_values #return our theta values for this model\n",
    "\n",
    "def convertMatrix(value,DM):  #Function to convert our design matrix for oneVsrest multiclass classification\n",
    "    trueIndices=np.where(DM[:,12]==value) #finds indices where target variable value is positive\n",
    "    falseIndices=np.where(DM[:,12]!=value) #finds indices where target variable value is negative\n",
    "    DM[trueIndices,12]=1 #sets positive values to 1\n",
    "    DM[falseIndices,12]=0 #sets negative values to 0\n",
    "    return DM"
   ]
  },
  {
   "cell_type": "code",
   "execution_count": null,
   "metadata": {},
   "outputs": [
    {
     "name": "stdout",
     "output_type": "stream",
     "text": [
      "[[ 1.    7.    0.27 ...  0.45  8.8   0.  ]\n",
      " [ 1.    6.3   0.3  ...  0.49  9.5   0.  ]\n",
      " [ 1.    8.1   0.28 ...  0.44 10.1   0.  ]\n",
      " ...\n",
      " [ 1.    7.5   0.32 ...  0.38  9.5   1.  ]\n",
      " [ 1.    6.6   0.23 ...  0.54 10.2   0.  ]\n",
      " [ 1.    6.6   0.2  ...  0.54 10.2   0.  ]]\n"
     ]
    }
   ],
   "source": [
    "convertedDMR=convertMatrix(5,DMR)#create a converted design matrix where target variable only has two values 1 and 0 (1 represents the value you use as a parameter and 0 represents every other value besides the parameter value)\n",
    "print(convertedDMR)\n",
    "theta_values=np.random.uniform(size=12)#initialize our initial thetas\n",
    "theta_valuesOld=np.zeros(12)\n",
    "alpha=1e-4#learning rate\n",
    "theta_values=GradientDescent(theta_values,theta_valuesOld,convertedDMR,alpha)\n",
    "print(theta_values)#print our theta values for the model"
   ]
  },
  {
   "cell_type": "code",
   "execution_count": 65,
   "metadata": {},
   "outputs": [
    {
     "name": "stdout",
     "output_type": "stream",
     "text": [
      "[0.05058386 0.07540233 0.24763257 0.76681239 0.08667792 0.44104532\n",
      " 0.44104532 0.25881672 0.45736052 0.25575202 0.90602661 0.90602661\n",
      " 0.13071644 0.07182711 0.17646948 0.18760073 0.2073857  0.91120756\n",
      " 0.42207534 0.76384022 0.04639099 0.35178223 0.81193321 0.57776932\n",
      " 0.20282707 0.37429988 0.35723363 0.35178223 0.16092031 0.14552432\n",
      " 0.4860421  0.81193321 0.57776932 0.91528134 0.10978302 0.1869798\n",
      " 0.91528134 0.10978302 0.46639754 0.16303063 0.51902893 0.51902893\n",
      " 0.77825102 0.85491267 0.23197231 0.31207064 0.86151241 0.34265676\n",
      " 0.51972483 0.80748767 0.80588495 0.27203125 0.55945667 0.27203125\n",
      " 0.40337251 0.80748767 0.80588495 0.0637068  0.11807245 0.15538746\n",
      " 0.52503704 0.52609187 0.4672557  0.16315232 0.0637068  0.40295538\n",
      " 0.11807245 0.37631388 0.37631388 0.77859172 0.17515463 0.37631388\n",
      " 0.77859172 0.43260564 0.15876621 0.34510198 0.34510198 0.20122028\n",
      " 0.34510198 0.14350486 0.18697371 0.18697371 0.18697371 0.54022709\n",
      " 0.74392092 0.0887921  0.18408224 0.0887921  0.03164557 0.54022709\n",
      " 0.74392092 0.34492965 0.14187968 0.14350486 0.18697371 0.80211057\n",
      " 0.86115767 0.62573305 0.79628439 0.16482038 0.86132425 0.62573305\n",
      " 0.79775034 0.45247165 0.79628439 0.36994695 0.22093687 0.08890943\n",
      " 0.36994695 0.66955485 0.07513463 0.43939985 0.15739301 0.59246732\n",
      " 0.81240289 0.27339892 0.81240289 0.33761459 0.61781651 0.62433864\n",
      " 0.59246732 0.83032015 0.6279428  0.6530502  0.81241906 0.81241906\n",
      " 0.81241906 0.81241906 0.83579283 0.30042932 0.30042932 0.0925564\n",
      " 0.81241906 0.32891875 0.6530502  0.81241906 0.83579283 0.32891875\n",
      " 0.6993367  0.11006532 0.30042932 0.0925564  0.52327164 0.52327164\n",
      " 0.302493   0.38453877 0.10168335 0.19048989 0.48562487 0.59416716\n",
      " 0.48562487 0.49743516 0.65031583 0.08713547 0.30194517 0.77667072\n",
      " 0.64782135 0.64354079 0.63140676 0.20633453 0.20460329 0.43604218\n",
      " 0.49022061 0.60122264 0.44067075 0.64811067 0.50086305 0.16860531\n",
      " 0.42594848 0.38022939 0.17877694 0.53462209 0.81152625 0.3956303\n",
      " 0.79058642 0.8359466  0.06726203 0.8359466  0.52719795 0.3956303\n",
      " 0.38717634 0.79058642 0.56912837 0.74516884 0.74516884 0.22441717\n",
      " 0.21584374 0.25439328 0.3732939  0.49926707 0.13921488 0.21213992\n",
      " 0.55934527 0.1149977  0.14171278 0.10528761 0.15547447 0.10620092\n",
      " 0.92417855 0.92417855 0.4373955  0.42553639 0.74188279 0.77122428\n",
      " 0.89035704 0.09792353 0.07516649 0.3957715  0.4003192  0.7063941\n",
      " 0.82686507 0.10071755 0.23866389 0.89457257 0.89457257 0.57946768\n",
      " 0.16465435 0.20758528 0.44624344 0.89457257 0.0754098  0.22456456\n",
      " 0.51298481 0.51298481 0.43259171 0.42966941 0.51298481 0.52066148\n",
      " 0.54411153 0.22456456 0.71708959 0.02847985 0.91922439 0.19143566\n",
      " 0.71708959 0.69068284 0.74503169 0.69068284 0.75491557 0.83592426\n",
      " 0.83592426 0.83592426 0.83592426 0.83592426 0.83592426 0.4048167\n",
      " 0.38038801 0.0892105  0.24197265 0.05506503 0.08814615 0.09356021\n",
      " 0.83592426 0.07178156 0.44718628 0.50646093 0.70527239 0.42496112\n",
      " 0.28585206 0.20836399 0.21360885 0.73051639 0.77301753 0.17849081\n",
      " 0.78747012 0.1097413  0.07925843 0.73051639 0.14958627 0.08808341\n",
      " 0.22948913 0.47165386 0.10346497 0.26417145 0.41830155 0.09346473\n",
      " 0.41830155 0.09850571 0.06455217 0.65358045 0.78989977 0.09346473\n",
      " 0.08077215 0.25187318 0.0752129  0.66586138 0.56021605 0.25187318\n",
      " 0.75909307 0.19333208 0.1830158  0.10706494 0.45238832 0.8504363\n",
      " 0.88348884 0.40887506 0.88382557 0.88382557 0.88382557 0.72353734\n",
      " 0.21029024 0.88382557 0.11721265 0.29487611 0.72353734 0.25631303\n",
      " 0.10964469 0.70250083 0.51908626 0.33359306 0.8115874  0.289553\n",
      " 0.39791434 0.10711713 0.34820408 0.4476268  0.34443725 0.79260243\n",
      " 0.79260243 0.13562704]\n"
     ]
    }
   ],
   "source": [
    "#print(DMR[0])\n",
    "value=hFunction(DMRTest[:,:12],theta_values)#our predictions for a data point in terms of probability\n",
    "print(value)   "
   ]
  },
  {
   "cell_type": "markdown",
   "metadata": {},
   "source": [
    "# "
   ]
  }
 ],
 "metadata": {
  "kernelspec": {
   "display_name": "Python 3",
   "language": "python",
   "name": "python3"
  },
  "language_info": {
   "codemirror_mode": {
    "name": "ipython",
    "version": 3
   },
   "file_extension": ".py",
   "mimetype": "text/x-python",
   "name": "python",
   "nbconvert_exporter": "python",
   "pygments_lexer": "ipython3",
   "version": "3.7.4"
  }
 },
 "nbformat": 4,
 "nbformat_minor": 2
}
