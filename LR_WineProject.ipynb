{
 "cells": [
  {
   "cell_type": "code",
   "execution_count": 1,
   "metadata": {},
   "outputs": [],
   "source": [
    "import numpy as np\n",
    "import matplotlib.pyplot as plt\n",
    "import math"
   ]
  },
  {
   "cell_type": "code",
   "execution_count": 2,
   "metadata": {},
   "outputs": [],
   "source": [
    "full_data_w = [] #white wine data\n",
    "full_data_r = [] #red whine data\n",
    "\n",
    "def Pulldataw(file):               #Pulling white wine data\n",
    "    data_file = open(file, 'r')\n",
    "    lines = data_file.readlines()\n",
    "    for k in lines:\n",
    "        stuff = np.array(k.split(';')) \n",
    "        full_data_w.append([stuff])    \n",
    "    data_file.close()\n",
    "Pulldataw('winequality-white.csv')\n",
    "\n",
    "def Pulldatar(file):                #Pulling red wine data\n",
    "    data_file = open(file, 'r')\n",
    "    lines = data_file.readlines()\n",
    "    for k in lines:\n",
    "        stuff = np.array(k.split(';')) \n",
    "        full_data_r.append([stuff])    \n",
    "    data_file.close()\n",
    "Pulldatar('winequality-red.csv')\n",
    "\n",
    "#print(full_data_r)\n",
    "#print(full_data_w)"
   ]
  },
  {
   "cell_type": "code",
   "execution_count": 3,
   "metadata": {},
   "outputs": [
    {
     "name": "stdout",
     "output_type": "stream",
     "text": [
      "2939\n",
      "979\n",
      "980\n",
      "\n",
      "959\n",
      "320\n",
      "320\n"
     ]
    }
   ],
   "source": [
    "#splitting data into train,validate and test data (60,20,20)%\n",
    "WLabels = full_data_w[0]\n",
    "del full_data_w[0]\n",
    "RLabels = full_data_r[0]\n",
    "del full_data_r[0]\n",
    "\n",
    "WTrain = full_data_w[:round(len(full_data_w)*0.6)]\n",
    "WValid = full_data_w[round(len(full_data_w)*0.6):round(len(full_data_w)*0.8)]\n",
    "WTest  = full_data_w[round(len(full_data_w)*0.8):]\n",
    "\n",
    "RTrain = full_data_r[:round(len(full_data_r)*0.6)]\n",
    "RValid = full_data_r[round(len(full_data_r)*0.6):round(len(full_data_r)*0.8)]\n",
    "RTest  = full_data_r[round(len(full_data_r)*0.8):]\n",
    "\n",
    "\n",
    "print(len(WTrain))\n",
    "print(len(WValid))\n",
    "print(len(WTest))\n",
    "print()\n",
    "print(len(RTrain))\n",
    "print(len(RValid))\n",
    "print(len(RTest))"
   ]
  },
  {
   "cell_type": "code",
   "execution_count": 4,
   "metadata": {},
   "outputs": [
    {
     "name": "stdout",
     "output_type": "stream",
     "text": [
      "(2939, 13)\n",
      "(959, 13)\n",
      "(979, 13)\n",
      "(320, 13)\n",
      "(980, 13)\n",
      "(320, 13)\n"
     ]
    }
   ],
   "source": [
    "#Creating Design matrix : (DM) From Train Data\n",
    "\n",
    "\n",
    "DMW = np.ones((len(WTrain),len(WTrain[0][0])+1))\n",
    "DMR = np.ones((len(RTrain),len(RTrain[0][0])+1))\n",
    "\n",
    "\n",
    "print(DMW.shape)\n",
    "print(DMR.shape)\n",
    "\n",
    "def CreateDM(DMtemp):  #Function to create Design Matrix\n",
    "    for j in range(DMtemp.shape[0]):\n",
    "        for k in range(DMtemp.shape[1]-1):\n",
    "            DMtemp[j][k+1] = WTrain[j][0][k].rstrip()\n",
    "    return(DMtemp)   \n",
    "        \n",
    "DMW = CreateDM(DMW) #Realocation of each designmatrix from ones to data\n",
    "DMR = CreateDM(DMR) #Realocation of each designmatrix from ones to data\n",
    "\n",
    "\n",
    "\n",
    "\n",
    "\n",
    "#Creating Design Matrix for validation Data\n",
    "DMWValid = np.ones((len(WValid),len(WValid[0][0])+1))\n",
    "DMRValid = np.ones((len(RValid),len(RValid[0][0])+1))\n",
    "\n",
    "\n",
    "print(DMWValid.shape)\n",
    "print(DMRValid.shape)\n",
    "\n",
    "def CreateDM(DMtemp):  #Function to create Design Matrix\n",
    "    for j in range(DMtemp.shape[0]):\n",
    "        for k in range(DMtemp.shape[1]-1):\n",
    "            DMtemp[j][k+1] = WValid[j][0][k].rstrip()\n",
    "    return(DMtemp)   \n",
    "        \n",
    "DMWValid = CreateDM(DMWValid) #Realocation of each designmatrix from ones to data\n",
    "DMRValid = CreateDM(DMRValid) #Realocation of each designmatrix from ones to data\n",
    "\n",
    "\n",
    "  \n",
    "\n",
    "\n",
    "#Create design matrix for Testing Data\n",
    "DMWTest = np.ones((len(WTest),len(WTest[0][0])+1))\n",
    "DMRTest = np.ones((len(RTest),len(RTest[0][0])+1))\n",
    "\n",
    "\n",
    "print(DMWTest.shape)\n",
    "print(DMRTest.shape)\n",
    "\n",
    "def CreateDM(DMtemp):  #Function to create Design Matrix\n",
    "    for j in range(DMtemp.shape[0]):\n",
    "        for k in range(DMtemp.shape[1]-1):\n",
    "            DMtemp[j][k+1] = WTest[j][0][k].rstrip()\n",
    "    return(DMtemp)   \n",
    "        \n",
    "DMWTest = CreateDM(DMWTest) #Realocation of each designmatrix from ones to data\n",
    "DMRTest = CreateDM(DMRTest) #Realocation of each designmatrix from ones to data\n",
    "\n",
    " "
   ]
  },
  {
   "cell_type": "code",
   "execution_count": 5,
   "metadata": {},
   "outputs": [],
   "source": [
    "def hFunction(DM,theta_values):\n",
    "    return 1/(1+np.exp(-np.dot(DM,theta_values)))#H(x,Theta) Calculation\n",
    "\n",
    "def GradientDescent(theta_values,theta_valuesOld,DM,alpha):#Gradient Descent Function\n",
    "    while np.sqrt(np.sum(np.power(theta_values - theta_valuesOld, 2))) > 0.0005: # while euclidean norm > 0.0005 (so ϵ = 0.0005) \n",
    "        theta_valuesOld = theta_values # set old parameter values to parameter values before they are updated\n",
    "        for i in range(DM.shape[0]):\n",
    "            theta_values = theta_values - alpha*( (hFunction(DM[i,:12], theta_values) - DM[i][12]) * DM[i,:12] ) # update the parameters using the update rule\n",
    "\n",
    "             \n",
    "            \n",
    "    return theta_values #return our theta values for this model\n",
    "\n",
    "def convertMatrix(value,DM):  #Function to convert our design matrix for oneVsrest multiclass classification\n",
    "    trueIndices=np.where(DM[:,12]==value) #finds indices where target variable value is positive\n",
    "    falseIndices=np.where(DM[:,12]!=value) #finds indices where target variable value is negative\n",
    "    DM[trueIndices,12]=1 #sets positive values to 1\n",
    "    DM[falseIndices,12]=0 #sets negative values to 0\n",
    "    return DM"
   ]
  },
  {
   "cell_type": "code",
   "execution_count": 6,
   "metadata": {},
   "outputs": [],
   "source": [
    "# convertedDMR=convertMatrix(5,DMR)#create a converted design matrix where target variable only has two values 1 and 0 (1 represents the value you use as a parameter and 0 represents every other value besides the parameter value)\n",
    "# print(convertedDMR)\n",
    "# theta_values=np.random.uniform(size=12)#initialize our initial thetas\n",
    "# theta_valuesOld=np.zeros(12)\n",
    "# alpha=1e-4#learning rate\n",
    "# theta_values=GradientDescent(theta_values,theta_valuesOld,convertedDMR,alpha)\n",
    "# print(theta_values)#print our theta values for the model"
   ]
  },
  {
   "cell_type": "code",
   "execution_count": 7,
   "metadata": {},
   "outputs": [],
   "source": [
    "#print(DMR[0])\n",
    "#DMRTest = DMRTest[DMRTest[:,1].argsort()] \n",
    "# value=hFunction(DMRTest[:,:12],theta_values)#our predictions for a data point in terms of probability\n",
    "#print(value)"
   ]
  },
  {
   "cell_type": "code",
   "execution_count": 8,
   "metadata": {},
   "outputs": [
    {
     "ename": "NameError",
     "evalue": "name 'rande' is not defined",
     "output_type": "error",
     "traceback": [
      "\u001b[0;31m---------------------------------------------------------------------------\u001b[0m",
      "\u001b[0;31mNameError\u001b[0m                                 Traceback (most recent call last)",
      "\u001b[0;32m<ipython-input-8-05a443b284a6>\u001b[0m in \u001b[0;36m<module>\u001b[0;34m\u001b[0m\n\u001b[1;32m      5\u001b[0m \u001b[0mvaluelist\u001b[0m \u001b[0;34m=\u001b[0m \u001b[0;34m[\u001b[0m\u001b[0;34m]\u001b[0m\u001b[0;34m\u001b[0m\u001b[0;34m\u001b[0m\u001b[0m\n\u001b[1;32m      6\u001b[0m \u001b[0;34m\u001b[0m\u001b[0m\n\u001b[0;32m----> 7\u001b[0;31m \u001b[0;32mfor\u001b[0m \u001b[0mk\u001b[0m \u001b[0;32min\u001b[0m \u001b[0mrande\u001b[0m\u001b[0;34m(\u001b[0m\u001b[0;36m11\u001b[0m\u001b[0;34m)\u001b[0m\u001b[0;34m:\u001b[0m\u001b[0;34m\u001b[0m\u001b[0;34m\u001b[0m\u001b[0m\n\u001b[0m\u001b[1;32m      8\u001b[0m     \u001b[0mconvertedDMR\u001b[0m\u001b[0;34m=\u001b[0m\u001b[0mconvertMatrix\u001b[0m\u001b[0;34m(\u001b[0m\u001b[0mk\u001b[0m\u001b[0;34m,\u001b[0m\u001b[0mDMR\u001b[0m\u001b[0;34m)\u001b[0m\u001b[0;34m\u001b[0m\u001b[0;34m\u001b[0m\u001b[0m\n\u001b[1;32m      9\u001b[0m     \u001b[0mtheta_values\u001b[0m\u001b[0;34m=\u001b[0m\u001b[0mnp\u001b[0m\u001b[0;34m.\u001b[0m\u001b[0mrandom\u001b[0m\u001b[0;34m.\u001b[0m\u001b[0muniform\u001b[0m\u001b[0;34m(\u001b[0m\u001b[0msize\u001b[0m\u001b[0;34m=\u001b[0m\u001b[0;36m12\u001b[0m\u001b[0;34m)\u001b[0m\u001b[0;31m#initialize our initial thetas\u001b[0m\u001b[0;34m\u001b[0m\u001b[0;34m\u001b[0m\u001b[0m\n",
      "\u001b[0;31mNameError\u001b[0m: name 'rande' is not defined"
     ]
    }
   ],
   "source": [
    "#loop for each possible quility /10\n",
    "\n",
    "ThetaList = []\n",
    "alpha=1e-3#learning rate\n",
    "valuelist = []\n",
    "\n",
    "for k in rande(11):\n",
    "    convertedDMR=convertMatrix(k,DMR)\n",
    "    theta_values=np.random.uniform(size=12)#initialize our initial thetas\n",
    "    theta_valuesOld=np.zeros(12)\n",
    "    theta_values=GradientDescent(theta_values,theta_valuesOld,convertedDMR,alpha)\n",
    "    ThetaList.append(theta_values)\n",
    "\n",
    "#loop for h functions\n",
    "for t in ThetaList:\n",
    "    val = hFunction(DMRTest[:,:12],theta_values)\n",
    "    valuelist.append(val)"
   ]
  },
  {
   "cell_type": "markdown",
   "metadata": {},
   "source": [
    "# "
   ]
  }
 ],
 "metadata": {
  "kernelspec": {
   "display_name": "Python 3",
   "language": "python",
   "name": "python3"
  },
  "language_info": {
   "codemirror_mode": {
    "name": "ipython",
    "version": 3
   },
   "file_extension": ".py",
   "mimetype": "text/x-python",
   "name": "python",
   "nbconvert_exporter": "python",
   "pygments_lexer": "ipython3",
   "version": "3.7.4"
  }
 },
 "nbformat": 4,
 "nbformat_minor": 2
}
