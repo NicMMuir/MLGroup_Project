{
 "cells": [
  {
   "cell_type": "code",
   "execution_count": 1,
   "metadata": {},
   "outputs": [],
   "source": [
    "import numpy as np\n",
    "import matplotlib.pyplot as plt"
   ]
  },
  {
   "cell_type": "code",
   "execution_count": 2,
   "metadata": {},
   "outputs": [],
   "source": [
    "full_data_w = [] #white wine data\n",
    "full_data_r = [] #red whine data\n",
    "\n",
    "def Pulldataw(file):               #Pulling white wine data\n",
    "    data_file = open(file, 'r')\n",
    "    lines = data_file.readlines()\n",
    "    for k in lines:\n",
    "        stuff = np.array(k.split(';')) \n",
    "        full_data_w.append([stuff])    \n",
    "    data_file.close()\n",
    "Pulldataw('winequality-white.csv')\n",
    "\n",
    "def Pulldatar(file):                #Pulling red wine data\n",
    "    data_file = open(file, 'r')\n",
    "    lines = data_file.readlines()\n",
    "    for k in lines:\n",
    "        stuff = np.array(k.split(';')) \n",
    "        full_data_r.append([stuff])    \n",
    "    data_file.close()\n",
    "Pulldatar('winequality-red.csv')\n",
    "\n",
    "#print(full_data_r)\n",
    "#print(full_data_w)"
   ]
  },
  {
   "cell_type": "code",
   "execution_count": 3,
   "metadata": {},
   "outputs": [
    {
     "name": "stdout",
     "output_type": "stream",
     "text": [
      "2939\n",
      "979\n",
      "980\n",
      "\n",
      "959\n",
      "320\n",
      "320\n"
     ]
    }
   ],
   "source": [
    "#splitting data into train,validate and test data (60,20,20)%\n",
    "\n",
    "WLabels = full_data_w[0]\n",
    "del full_data_w[0]\n",
    "RLabels = full_data_r[0]\n",
    "del full_data_r[0]\n",
    "\n",
    "WTrain = full_data_w[:round(len(full_data_w)*0.6)]\n",
    "WValid = full_data_w[round(len(full_data_w)*0.6):round(len(full_data_w)*0.8)]\n",
    "WTest  = full_data_w[round(len(full_data_w)*0.8):]\n",
    "\n",
    "RTrain = full_data_r[:round(len(full_data_r)*0.6)]\n",
    "RValid = full_data_r[round(len(full_data_r)*0.6):round(len(full_data_r)*0.8)]\n",
    "RTest  = full_data_r[round(len(full_data_r)*0.8):]\n",
    "\n",
    "\n",
    "print(len(WTrain))\n",
    "print(len(WValid))\n",
    "print(len(WTest))\n",
    "print()\n",
    "print(len(RTrain))\n",
    "print(len(RValid))\n",
    "print(len(RTest))\n"
   ]
  },
  {
   "cell_type": "code",
   "execution_count": 4,
   "metadata": {},
   "outputs": [
    {
     "name": "stdout",
     "output_type": "stream",
     "text": [
      "(2939, 13)\n",
      "(959, 13)\n",
      "[[ 1.    7.    0.27 ...  0.45  8.8   6.  ]\n",
      " [ 1.    6.3   0.3  ...  0.49  9.5   6.  ]\n",
      " [ 1.    8.1   0.28 ...  0.44 10.1   6.  ]\n",
      " ...\n",
      " [ 1.    5.2   0.17 ...  0.41  9.8   5.  ]\n",
      " [ 1.    7.7   0.25 ...  0.5  10.1   5.  ]\n",
      " [ 1.    7.    0.12 ...  0.38  9.8   8.  ]]\n",
      "\n",
      "[[ 1.    7.    0.27 ...  0.45  8.8   6.  ]\n",
      " [ 1.    6.3   0.3  ...  0.49  9.5   6.  ]\n",
      " [ 1.    8.1   0.28 ...  0.44 10.1   6.  ]\n",
      " ...\n",
      " [ 1.    7.5   0.32 ...  0.38  9.5   5.  ]\n",
      " [ 1.    6.6   0.23 ...  0.54 10.2   7.  ]\n",
      " [ 1.    6.6   0.2  ...  0.54 10.2   7.  ]]\n"
     ]
    }
   ],
   "source": [
    "#Creating Design matrix : (DM) From Train Data\n",
    "\n",
    "\n",
    "DMW = np.ones((len(WTrain),len(WTrain[0][0])+1))\n",
    "DMR = np.ones((len(RTrain),len(RTrain[0][0])+1))\n",
    "\n",
    "print(DMW.shape)\n",
    "print(DMR.shape)\n",
    "\n",
    "def CreateDM(DMtemp):  #Function to create Design Matrix\n",
    "    for j in range(DMtemp.shape[0]):\n",
    "        for k in range(DMtemp.shape[1]-1):\n",
    "            DMtemp[j][k+1] = WTrain[j][0][k].rstrip()\n",
    "    return(DMtemp)   \n",
    "        \n",
    "DMW = CreateDM(DMW) #Realocation of each designmatrix from ones to data\n",
    "DMR = CreateDM(DMR) #Realocation of each designmatrix from ones to data\n",
    "\n",
    "\n",
    "print(DMW)\n",
    "print()\n",
    "print(DMR)\n",
    "    "
   ]
  },
  {
   "cell_type": "code",
   "execution_count": null,
   "metadata": {},
   "outputs": [],
   "source": []
  }
 ],
 "metadata": {
  "kernelspec": {
   "display_name": "Python 3",
   "language": "python",
   "name": "python3"
  },
  "language_info": {
   "codemirror_mode": {
    "name": "ipython",
    "version": 3
   },
   "file_extension": ".py",
   "mimetype": "text/x-python",
   "name": "python",
   "nbconvert_exporter": "python",
   "pygments_lexer": "ipython3",
   "version": "3.7.4"
  }
 },
 "nbformat": 4,
 "nbformat_minor": 2
}
